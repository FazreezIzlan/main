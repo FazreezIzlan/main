{
 "cells": [
  {
   "cell_type": "code",
   "execution_count": 2,
   "id": "b8d94d2a-5e1b-40c0-950e-b4cb2c7e6058",
   "metadata": {},
   "outputs": [],
   "source": [
    "#importing required libraries\n",
    "import requests"
   ]
  },
  {
   "cell_type": "code",
   "execution_count": 4,
   "id": "1e97b4b0-1902-4500-8241-fe8e9036d621",
   "metadata": {},
   "outputs": [],
   "source": [
    "#request to download the URL to scrape\n",
    "page = requests.get(\"https://dataquestio.github.io/web-scraping-pages/simple.html\")"
   ]
  },
  {
   "cell_type": "code",
   "execution_count": 5,
   "id": "968aebc5-0b4e-4c3a-a8ee-a769ced3af3d",
   "metadata": {},
   "outputs": [
    {
     "data": {
      "text/plain": [
       "<Response [200]>"
      ]
     },
     "execution_count": 5,
     "metadata": {},
     "output_type": "execute_result"
    }
   ],
   "source": [
    "page"
   ]
  },
  {
   "cell_type": "code",
   "execution_count": 6,
   "id": "78d709b2-45d8-4ac3-be76-725757047fe5",
   "metadata": {},
   "outputs": [],
   "source": [
    "# Parse & Transform to deform the data\n",
    "from bs4 import BeautifulSoup\n",
    "soup = BeautifulSoup(page.content,'html.parser')"
   ]
  },
  {
   "cell_type": "code",
   "execution_count": 7,
   "id": "4aeb86c8-7636-4d9c-83c7-8cde1955787a",
   "metadata": {},
   "outputs": [
    {
     "data": {
      "text/plain": [
       "<!DOCTYPE html>\n",
       "\n",
       "<html>\n",
       "<head>\n",
       "<title>A simple example page</title>\n",
       "</head>\n",
       "<body>\n",
       "<p>Here is some simple content for this page.</p>\n",
       "</body>\n",
       "</html>"
      ]
     },
     "execution_count": 7,
     "metadata": {},
     "output_type": "execute_result"
    }
   ],
   "source": [
    "soup"
   ]
  },
  {
   "cell_type": "code",
   "execution_count": 9,
   "id": "b36384d6-9c69-40a9-b951-1f633e078596",
   "metadata": {},
   "outputs": [
    {
     "data": {
      "text/plain": [
       "'Here is some simple content for this page.'"
      ]
     },
     "execution_count": 9,
     "metadata": {},
     "output_type": "execute_result"
    }
   ],
   "source": [
    "#Extract text\n",
    "content = soup.find('p').get_text()\n",
    "content"
   ]
  },
  {
   "cell_type": "code",
   "execution_count": 10,
   "id": "0829bd6d-45a1-4906-89b2-cb90cc8eb326",
   "metadata": {},
   "outputs": [],
   "source": [
    "# Write Extracted data to text file\n",
    "with open(\"extracted_data.txt\", \"w\") as file:\n",
    "    file.write(content)"
   ]
  },
  {
   "cell_type": "code",
   "execution_count": null,
   "id": "d7bdc3d4-b844-40af-85cb-90b295e68001",
   "metadata": {},
   "outputs": [],
   "source": []
  }
 ],
 "metadata": {
  "kernelspec": {
   "display_name": "Python 3 (ipykernel)",
   "language": "python",
   "name": "python3"
  },
  "language_info": {
   "codemirror_mode": {
    "name": "ipython",
    "version": 3
   },
   "file_extension": ".py",
   "mimetype": "text/x-python",
   "name": "python",
   "nbconvert_exporter": "python",
   "pygments_lexer": "ipython3",
   "version": "3.11.7"
  }
 },
 "nbformat": 4,
 "nbformat_minor": 5
}
