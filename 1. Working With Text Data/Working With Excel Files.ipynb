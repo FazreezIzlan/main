{
 "cells": [
  {
   "cell_type": "code",
   "execution_count": 1,
   "id": "e28922d2-73da-4cbf-a6b2-5beb1dcc6508",
   "metadata": {},
   "outputs": [
    {
     "name": "stdout",
     "output_type": "stream",
     "text": [
      "Comments extracted and saved to comments_excel.txt\n"
     ]
    }
   ],
   "source": [
    "import pandas as pd\n",
    "excel_file = 'sample_data.xlsx'\n",
    "output_file = 'comments_excel.txt'\n",
    "df = pd.read_excel(excel_file)\n",
    "comments = df['comments']\n",
    "\n",
    "with open(output_file, 'w') as txtfile:\n",
    "    for comment in comments:\n",
    "        txtfile.write(str(comment) + '\\n')\n",
    "\n",
    "print(\"Comments extracted and saved to\", output_file)"
   ]
  },
  {
   "cell_type": "code",
   "execution_count": null,
   "id": "c02a9dc0-1f0e-43fb-ac0c-7ca2f153135f",
   "metadata": {},
   "outputs": [],
   "source": []
  }
 ],
 "metadata": {
  "kernelspec": {
   "display_name": "Python 3 (ipykernel)",
   "language": "python",
   "name": "python3"
  },
  "language_info": {
   "codemirror_mode": {
    "name": "ipython",
    "version": 3
   },
   "file_extension": ".py",
   "mimetype": "text/x-python",
   "name": "python",
   "nbconvert_exporter": "python",
   "pygments_lexer": "ipython3",
   "version": "3.11.7"
  }
 },
 "nbformat": 4,
 "nbformat_minor": 5
}
