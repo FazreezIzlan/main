{
 "cells": [
  {
   "cell_type": "code",
   "execution_count": 1,
   "id": "5543ed11-66cd-4ff3-af06-bbce61d5187f",
   "metadata": {},
   "outputs": [
    {
     "name": "stdout",
     "output_type": "stream",
     "text": [
      "Requirement already satisfied: textblob in c:\\users\\fariz\\anaconda3\\lib\\site-packages (0.18.0.post0)\n",
      "Requirement already satisfied: nltk>=3.8 in c:\\users\\fariz\\anaconda3\\lib\\site-packages (from textblob) (3.8.1)\n",
      "Requirement already satisfied: click in c:\\users\\fariz\\anaconda3\\lib\\site-packages (from nltk>=3.8->textblob) (8.1.7)\n",
      "Requirement already satisfied: joblib in c:\\users\\fariz\\anaconda3\\lib\\site-packages (from nltk>=3.8->textblob) (1.2.0)\n",
      "Requirement already satisfied: regex>=2021.8.3 in c:\\users\\fariz\\anaconda3\\lib\\site-packages (from nltk>=3.8->textblob) (2023.10.3)\n",
      "Requirement already satisfied: tqdm in c:\\users\\fariz\\anaconda3\\lib\\site-packages (from nltk>=3.8->textblob) (4.65.0)\n",
      "Requirement already satisfied: colorama in c:\\users\\fariz\\anaconda3\\lib\\site-packages (from click->nltk>=3.8->textblob) (0.4.6)\n",
      "Note: you may need to restart the kernel to use updated packages.\n"
     ]
    }
   ],
   "source": [
    "pip install textblob"
   ]
  },
  {
   "cell_type": "code",
   "execution_count": 2,
   "id": "97b179ae-3bab-4a08-8766-9ea200966283",
   "metadata": {},
   "outputs": [],
   "source": [
    "from textblob import TextBlob\n",
    "from vaderSentiment.vaderSentiment import SentimentIntensityAnalyzer\n",
    "from tabulate import tabulate"
   ]
  },
  {
   "cell_type": "code",
   "execution_count": 3,
   "id": "90ad8357-b78d-43e5-938c-8dd15a4f2452",
   "metadata": {},
   "outputs": [
    {
     "name": "stdout",
     "output_type": "stream",
     "text": [
      "Requirement already satisfied: vaderSentiment in c:\\users\\fariz\\anaconda3\\lib\\site-packages (3.3.2)\n",
      "Requirement already satisfied: requests in c:\\users\\fariz\\anaconda3\\lib\\site-packages (from vaderSentiment) (2.31.0)\n",
      "Requirement already satisfied: charset-normalizer<4,>=2 in c:\\users\\fariz\\anaconda3\\lib\\site-packages (from requests->vaderSentiment) (2.0.4)\n",
      "Requirement already satisfied: idna<4,>=2.5 in c:\\users\\fariz\\anaconda3\\lib\\site-packages (from requests->vaderSentiment) (3.4)\n",
      "Requirement already satisfied: urllib3<3,>=1.21.1 in c:\\users\\fariz\\anaconda3\\lib\\site-packages (from requests->vaderSentiment) (2.0.7)\n",
      "Requirement already satisfied: certifi>=2017.4.17 in c:\\users\\fariz\\anaconda3\\lib\\site-packages (from requests->vaderSentiment) (2024.2.2)\n",
      "Note: you may need to restart the kernel to use updated packages.\n"
     ]
    }
   ],
   "source": [
    "pip install vaderSentiment"
   ]
  },
  {
   "cell_type": "code",
   "execution_count": 4,
   "id": "213569a5-2a1e-41fa-8829-6df7d5b3a3b2",
   "metadata": {},
   "outputs": [
    {
     "name": "stdout",
     "output_type": "stream",
     "text": [
      "Requirement already satisfied: tabulate in c:\\users\\fariz\\anaconda3\\lib\\site-packages (0.9.0)Note: you may need to restart the kernel to use updated packages.\n",
      "\n"
     ]
    }
   ],
   "source": [
    "pip install tabulate"
   ]
  },
  {
   "cell_type": "code",
   "execution_count": 5,
   "id": "b0222732-e784-4a56-855f-6110c6b87d02",
   "metadata": {},
   "outputs": [],
   "source": [
    "from textblob import TextBlob\n",
    "from vaderSentiment.vaderSentiment import SentimentIntensityAnalyzer\n",
    "from tabulate import tabulate"
   ]
  },
  {
   "cell_type": "code",
   "execution_count": 6,
   "id": "4fd70b58-9ace-4964-9129-092a3d5ead98",
   "metadata": {},
   "outputs": [],
   "source": [
    "data = [\n",
    " (\"I love this product, it's amazing!\", 'positive'),\n",
    " (\"This product is terrible, I hate it.\", 'negative'),\n",
    " (\"It's okay, not bad but not great either.\", 'neutral'),\n",
    " (\"Best product ever, highly recommended!\", 'positive'),\n",
    " (\"I'm really disappointed with the quality.\", 'negative'),\n",
    " (\"So-so product, nothing special about it.\", 'neutral'),\n",
    " (\"The customer service was excellent!\", 'positive'),\n",
    " (\"I wasted my money on this useless product.\", 'negative'),\n",
    " (\"It's not the worst, but certainly not the best.\", 'neutral'),\n",
    " (\"I can't live without this product, it's a lifesaver!\", 'positive'),\n",
    " (\"The product arrived damaged and unusable.\", 'negative'),\n",
    " (\"It's average, neither good nor bad.\", 'neutral'),\n",
    " (\"Highly disappointed with the purchase.\", 'negative'),\n",
    " (\"The product exceeded my expectations.\", 'positive'),\n",
    " (\"It's just okay, nothing extraordinary.\", 'neutral'),\n",
    " (\"This product is excellent, it exceeded all my expectations!\", 'positive'),\n",
    " (\"I regret purchasing this product, it's a waste of money.\", 'negative'),\n",
    " (\"It's neither good nor bad, just average.\", 'neutral'),\n",
    " (\"Outstanding customer service, highly recommended!\", 'positive'),\n",
    " (\"I'm very disappointed with the quality of this item.\", 'negative'),\n",
    " (\"It's not the best product, but it gets the job done.\", 'neutral'),\n",
    " (\"This product is a game-changer, I can't imagine life without it!\", 'positive'),\n",
    " (\"I received a defective product, very dissatisfied.\", 'negative'),\n",
    " (\"It's neither great nor terrible, just okay.\", 'neutral'),\n",
    " (\"Fantastic product, I would buy it again in a heartbeat!\", 'positive'),\n",
    " (\"Avoid this product at all costs, complete waste of money.\", 'negative'),\n",
    " (\"It's decent, but nothing extraordinary.\", 'neutral'),\n",
    " (\"Impressive quality, exceeded my expectations!\", 'positive'),\n",
    " (\"I'm very unhappy with this purchase, total disappointment.\", 'negative'),\n",
    " (\"It's neither amazing nor terrible, somewhere in between.\", 'neutral')\n",
    "]"
   ]
  },
  {
   "cell_type": "code",
   "execution_count": 7,
   "id": "8546cf0f-1f7a-4700-82fe-04d4d4956b2a",
   "metadata": {},
   "outputs": [],
   "source": [
    "table_data = [[\"Text\", \"Actual Label\", \"TextBlob Sentiment\", \"VADER Sentiment\"]]"
   ]
  },
  {
   "cell_type": "code",
   "execution_count": 8,
   "id": "6a607448-8e58-429b-9f5c-2c20d0c9f315",
   "metadata": {},
   "outputs": [],
   "source": [
    "for text,actual_label in data:\n",
    " blob = TextBlob(text)\n",
    " tb_polarity = blob.sentiment.polarity\n",
    "\n",
    "# Determine label based on polarity score from TextBlob\n",
    " if tb_polarity > 0:\n",
    "  tb_label = 'positive'\n",
    " elif tb_polarity < 0:\n",
    "  tb_label = 'negative'\n",
    " else:\n",
    "  tb_label = 'neutral'\n",
    " # VADER\n",
    " analyzer = SentimentIntensityAnalyzer()\n",
    " vs = analyzer.polarity_scores(text)\n",
    " vader_compound = vs['compound']\n",
    " # Determine label based on compound score from VADER\n",
    " if vader_compound > 0.05:\n",
    "   vader_label = 'positive'\n",
    " elif vader_compound < -0.05:\n",
    "   vader_label = 'negative'\n",
    " else:\n",
    "   vader_label = 'neutral'\n",
    " table_data.append([text, actual_label, tb_label, vader_label])"
   ]
  },
  {
   "cell_type": "code",
   "execution_count": 9,
   "id": "6dda7a34-d7ae-41be-a398-7d14018ff82f",
   "metadata": {},
   "outputs": [
    {
     "name": "stdout",
     "output_type": "stream",
     "text": [
      "Text                                                              Actual Label    TextBlob Sentiment    VADER Sentiment\n",
      "----------------------------------------------------------------  --------------  --------------------  -----------------\n",
      "I love this product, it's amazing!                                positive        positive              positive\n",
      "This product is terrible, I hate it.                              negative        negative              negative\n",
      "It's okay, not bad but not great either.                          neutral         positive              negative\n",
      "Best product ever, highly recommended!                            positive        positive              positive\n",
      "I'm really disappointed with the quality.                         negative        negative              negative\n",
      "So-so product, nothing special about it.                          neutral         positive              negative\n",
      "The customer service was excellent!                               positive        positive              positive\n",
      "I wasted my money on this useless product.                        negative        negative              negative\n",
      "It's not the worst, but certainly not the best.                   neutral         negative              negative\n",
      "I can't live without this product, it's a lifesaver!              positive        positive              positive\n",
      "The product arrived damaged and unusable.                         negative        neutral               negative\n",
      "It's average, neither good nor bad.                               neutral         negative              negative\n",
      "Highly disappointed with the purchase.                            negative        negative              negative\n",
      "The product exceeded my expectations.                             positive        neutral               neutral\n",
      "It's just okay, nothing extraordinary.                            neutral         positive              positive\n",
      "This product is excellent, it exceeded all my expectations!       positive        positive              positive\n",
      "I regret purchasing this product, it's a waste of money.          negative        negative              negative\n",
      "It's neither good nor bad, just average.                          neutral         negative              negative\n",
      "Outstanding customer service, highly recommended!                 positive        positive              positive\n",
      "I'm very disappointed with the quality of this item.              negative        negative              negative\n",
      "It's not the best product, but it gets the job done.              neutral         positive              negative\n",
      "This product is a game-changer, I can't imagine life without it!  positive        neutral               neutral\n",
      "I received a defective product, very dissatisfied.                negative        positive              negative\n",
      "It's neither great nor terrible, just okay.                       neutral         positive              negative\n",
      "Fantastic product, I would buy it again in a heartbeat!           positive        positive              positive\n",
      "Avoid this product at all costs, complete waste of money.         negative        negative              negative\n",
      "It's decent, but nothing extraordinary.                           neutral         positive              neutral\n",
      "Impressive quality, exceeded my expectations!                     positive        positive              positive\n",
      "I'm very unhappy with this purchase, total disappointment.        negative        negative              negative\n",
      "It's neither amazing nor terrible, somewhere in between.          neutral         negative              negative\n"
     ]
    }
   ],
   "source": [
    "print(tabulate(table_data, headers=\"firstrow\"))"
   ]
  },
  {
   "cell_type": "code",
   "execution_count": 10,
   "id": "bc2c8a77-0650-4595-b17e-2aeb33e7100b",
   "metadata": {},
   "outputs": [
    {
     "name": "stdout",
     "output_type": "stream",
     "text": [
      "Requirement already satisfied: scikit-learn in c:\\users\\fariz\\anaconda3\\lib\\site-packages (1.2.2)\n",
      "Requirement already satisfied: numpy>=1.17.3 in c:\\users\\fariz\\anaconda3\\lib\\site-packages (from scikit-learn) (1.26.4)\n",
      "Requirement already satisfied: scipy>=1.3.2 in c:\\users\\fariz\\anaconda3\\lib\\site-packages (from scikit-learn) (1.11.4)\n",
      "Requirement already satisfied: joblib>=1.1.1 in c:\\users\\fariz\\anaconda3\\lib\\site-packages (from scikit-learn) (1.2.0)\n",
      "Requirement already satisfied: threadpoolctl>=2.0.0 in c:\\users\\fariz\\anaconda3\\lib\\site-packages (from scikit-learn) (2.2.0)\n",
      "Note: you may need to restart the kernel to use updated packages.\n"
     ]
    }
   ],
   "source": [
    "pip install scikit-learn"
   ]
  },
  {
   "cell_type": "code",
   "execution_count": 11,
   "id": "f617ea85-44ab-402c-a141-519fe1e50f11",
   "metadata": {},
   "outputs": [
    {
     "name": "stdout",
     "output_type": "stream",
     "text": [
      "Lexicon-based approach:\n",
      "Text                                                              Actual Label    TextBlob Sentiment    VADER Sentiment\n",
      "----------------------------------------------------------------  --------------  --------------------  -----------------\n",
      "I love this product, it's amazing!                                positive        positive              positive\n",
      "This product is terrible, I hate it.                              negative        negative              negative\n",
      "It's okay, not bad but not great either.                          neutral         positive              negative\n",
      "Best product ever, highly recommended!                            positive        positive              positive\n",
      "I'm really disappointed with the quality.                         negative        negative              negative\n",
      "So-so product, nothing special about it.                          neutral         positive              negative\n",
      "The customer service was excellent!                               positive        positive              positive\n",
      "I wasted my money on this useless product.                        negative        negative              negative\n",
      "It's not the worst, but certainly not the best.                   neutral         negative              negative\n",
      "I can't live without this product, it's a lifesaver!              positive        positive              positive\n",
      "The product arrived damaged and unusable.                         negative        neutral               negative\n",
      "It's average, neither good nor bad.                               neutral         negative              negative\n",
      "Highly disappointed with the purchase.                            negative        negative              negative\n",
      "The product exceeded my expectations.                             positive        neutral               neutral\n",
      "It's just okay, nothing extraordinary.                            neutral         positive              positive\n",
      "This product is excellent, it exceeded all my expectations!       positive        positive              positive\n",
      "I regret purchasing this product, it's a waste of money.          negative        negative              negative\n",
      "It's neither good nor bad, just average.                          neutral         negative              negative\n",
      "Outstanding customer service, highly recommended!                 positive        positive              positive\n",
      "I'm very disappointed with the quality of this item.              negative        negative              negative\n",
      "It's not the best product, but it gets the job done.              neutral         positive              negative\n",
      "This product is a game-changer, I can't imagine life without it!  positive        neutral               neutral\n",
      "I received a defective product, very dissatisfied.                negative        positive              negative\n",
      "It's neither great nor terrible, just okay.                       neutral         positive              negative\n",
      "Fantastic product, I would buy it again in a heartbeat!           positive        positive              positive\n",
      "Avoid this product at all costs, complete waste of money.         negative        negative              negative\n",
      "It's decent, but nothing extraordinary.                           neutral         positive              neutral\n",
      "Impressive quality, exceeded my expectations!                     positive        positive              positive\n",
      "I'm very unhappy with this purchase, total disappointment.        negative        negative              negative\n",
      "It's neither amazing nor terrible, somewhere in between.          neutral         negative              negative\n",
      "\n",
      "Classification Report for TextBlob:\n",
      "              precision    recall  f1-score   support\n",
      "\n",
      "    negative       0.67      0.80      0.73        10\n",
      "     neutral       0.00      0.00      0.00        10\n",
      "    positive       0.53      0.80      0.64        10\n",
      "\n",
      "    accuracy                           0.53        30\n",
      "   macro avg       0.40      0.53      0.46        30\n",
      "weighted avg       0.40      0.53      0.46        30\n",
      "\n",
      "\n",
      "Classification Report for VADER:\n",
      "              precision    recall  f1-score   support\n",
      "\n",
      "    negative       0.56      1.00      0.71        10\n",
      "     neutral       0.33      0.10      0.15        10\n",
      "    positive       0.89      0.80      0.84        10\n",
      "\n",
      "    accuracy                           0.63        30\n",
      "   macro avg       0.59      0.63      0.57        30\n",
      "weighted avg       0.59      0.63      0.57        30\n",
      "\n"
     ]
    }
   ],
   "source": [
    "from textblob import TextBlob\n",
    "from vaderSentiment.vaderSentiment import SentimentIntensityAnalyzer\n",
    "from sklearn.metrics import classification_report\n",
    "from tabulate import tabulate\n",
    "# Sample data for demonstration\n",
    "data = [\n",
    " (\"I love this product, it's amazing!\", 'positive'),\n",
    " (\"This product is terrible, I hate it.\", 'negative'),\n",
    " (\"It's okay, not bad but not great either.\", 'neutral'),\n",
    " (\"Best product ever, highly recommended!\", 'positive'),\n",
    " (\"I'm really disappointed with the quality.\", 'negative'),\n",
    " (\"So-so product, nothing special about it.\", 'neutral'),\n",
    " (\"The customer service was excellent!\", 'positive'),\n",
    " (\"I wasted my money on this useless product.\", 'negative'),\n",
    " (\"It's not the worst, but certainly not the best.\", 'neutral'),\n",
    " (\"I can't live without this product, it's a lifesaver!\", 'positive'),\n",
    " (\"The product arrived damaged and unusable.\", 'negative'),\n",
    " (\"It's average, neither good nor bad.\", 'neutral'),\n",
    " (\"Highly disappointed with the purchase.\", 'negative'),\n",
    " (\"The product exceeded my expectations.\", 'positive'),\n",
    " (\"It's just okay, nothing extraordinary.\", 'neutral'),\n",
    " (\"This product is excellent, it exceeded all my expectations!\", 'positive'),\n",
    " (\"I regret purchasing this product, it's a waste of money.\", 'negative'),\n",
    " (\"It's neither good nor bad, just average.\", 'neutral'),\n",
    " (\"Outstanding customer service, highly recommended!\", 'positive'),\n",
    " (\"I'm very disappointed with the quality of this item.\", 'negative'),\n",
    " (\"It's not the best product, but it gets the job done.\", 'neutral'),\n",
    " (\"This product is a game-changer, I can't imagine life without it!\", 'positive'),\n",
    " (\"I received a defective product, very dissatisfied.\", 'negative'),\n",
    " (\"It's neither great nor terrible, just okay.\", 'neutral'),\n",
    " (\"Fantastic product, I would buy it again in a heartbeat!\", 'positive'),\n",
    " (\"Avoid this product at all costs, complete waste of money.\", 'negative'),\n",
    " (\"It's decent, but nothing extraordinary.\", 'neutral'),\n",
    " (\"Impressive quality, exceeded my expectations!\", 'positive'),\n",
    " (\"I'm very unhappy with this purchase, total disappointment.\", 'negative'),\n",
    " (\"It's neither amazing nor terrible, somewhere in between.\", 'neutral')\n",
    "]\n",
    "# Initialize an empty list to store the data in tabular format\n",
    "table_data = [[\"Text\", \"Actual Label\", \"TextBlob Sentiment\", \"VADER Sentiment\"]]\n",
    "# Lexicon-based approach using TextBlob and VADER\n",
    "print(\"Lexicon-based approach:\")\n",
    "for text, actual_label in data:\n",
    " # TextBlob\n",
    " blob = TextBlob(text)\n",
    " tb_polarity = blob.sentiment.polarity\n",
    " # Determine label based on polarity score from TextBlob\n",
    " if tb_polarity > 0:\n",
    "     tb_label = 'positive'\n",
    " elif tb_polarity < 0:\n",
    "     tb_label = 'negative'\n",
    " else:\n",
    "     tb_label = 'neutral'\n",
    " # VADER\n",
    " analyzer = SentimentIntensityAnalyzer()\n",
    " vs = analyzer.polarity_scores(text)\n",
    " vader_compound = vs['compound']\n",
    " # Determine label based on compound score from VADER\n",
    " if vader_compound > 0.05:\n",
    "     vader_label = 'positive'\n",
    " elif vader_compound < -0.05:\n",
    "     vader_label = 'negative'\n",
    " else:\n",
    "     vader_label = 'neutral'\n",
    " table_data.append([text, actual_label, tb_label, vader_label])\n",
    "# Print the sentiment analysis results in a table format\n",
    "print(tabulate(table_data, headers=\"firstrow\"))\n",
    "# Calculate classification report for TextBlob\n",
    "tb_classification_report = classification_report([label for _, label in data],\n",
    "[tb_label for _, _, tb_label, _ in table_data[1:]], target_names=['negative',\n",
    "'neutral', 'positive'])\n",
    "# Calculate classification report for VADER\n",
    "vader_classification_report = classification_report([label for _, label in data],\n",
    "[vader_label for _, _, _, vader_label in table_data[1:]],\n",
    "target_names=['negative', 'neutral', 'positive'])\n",
    "# Print classification report for TextBlob\n",
    "print(\"\\nClassification Report for TextBlob:\")\n",
    "print(tb_classification_report)\n",
    "# Print classification report for VADER\n",
    "print(\"\\nClassification Report for VADER:\")\n",
    "print(vader_classification_report)"
   ]
  },
  {
   "cell_type": "code",
   "execution_count": null,
   "id": "fdbfd53d-622a-4159-855c-d54cd9454792",
   "metadata": {},
   "outputs": [],
   "source": []
  }
 ],
 "metadata": {
  "kernelspec": {
   "display_name": "Python 3 (ipykernel)",
   "language": "python",
   "name": "python3"
  },
  "language_info": {
   "codemirror_mode": {
    "name": "ipython",
    "version": 3
   },
   "file_extension": ".py",
   "mimetype": "text/x-python",
   "name": "python",
   "nbconvert_exporter": "python",
   "pygments_lexer": "ipython3",
   "version": "3.11.7"
  }
 },
 "nbformat": 4,
 "nbformat_minor": 5
}
