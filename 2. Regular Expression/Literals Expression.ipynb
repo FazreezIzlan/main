{
 "cells": [
  {
   "cell_type": "code",
   "execution_count": 1,
   "id": "70cc5c48-68cb-4798-a54b-3d5a4cc50ef5",
   "metadata": {},
   "outputs": [],
   "source": [
    "import re"
   ]
  },
  {
   "cell_type": "code",
   "execution_count": 3,
   "id": "6b734dc7-6e26-4ae3-95a2-3194a2595d45",
   "metadata": {},
   "outputs": [
    {
     "name": "stdout",
     "output_type": "stream",
     "text": [
      "<re.Match object; span=(0, 1), match='I'>\n"
     ]
    }
   ],
   "source": [
    "#Using re.match\n",
    "#To find the first occurence of the letter 'I' in the string\n",
    "sentence1 = re.match(r'I', 'I am learning text analytics')\n",
    "\n",
    "print(sentence1)"
   ]
  },
  {
   "cell_type": "code",
   "execution_count": 4,
   "id": "6b39eca9-9b84-4556-a83a-732e49acc276",
   "metadata": {},
   "outputs": [
    {
     "name": "stdout",
     "output_type": "stream",
     "text": [
      "None\n"
     ]
    }
   ],
   "source": [
    "#Using re.match\n",
    "#To find the first occurence of the letter 'V' in the string\n",
    "sentence2 = re.match(r'V', 'I am learning text analytics')\n",
    "\n",
    "print(sentence2)"
   ]
  },
  {
   "cell_type": "code",
   "execution_count": 5,
   "id": "88b0681a-3ab6-47c7-926e-b456bff1e712",
   "metadata": {},
   "outputs": [
    {
     "name": "stdout",
     "output_type": "stream",
     "text": [
      "None\n"
     ]
    }
   ],
   "source": [
    "#Using re.match\n",
    "#TO find the first occurence of the letter 'am' in the string\n",
    "sentence3 = re.match(r'am', 'I am learning text analytics')\n",
    "\n",
    "print(sentence3)"
   ]
  },
  {
   "cell_type": "code",
   "execution_count": 6,
   "id": "0d2cf768-7257-44c8-8f64-ad75b3910f53",
   "metadata": {},
   "outputs": [
    {
     "name": "stdout",
     "output_type": "stream",
     "text": [
      "<re.Match object; span=(2, 4), match='am'>\n"
     ]
    }
   ],
   "source": [
    "#Using re.search\n",
    "#To find the first occurence of a pattern in a string regardless of the location\n",
    "sentence4 = re.search(r'am', 'I am learning text analytics')\n",
    "\n",
    "print(sentence4)"
   ]
  },
  {
   "cell_type": "code",
   "execution_count": 7,
   "id": "003e13e7-8559-434f-bf30-77492315e2df",
   "metadata": {},
   "outputs": [
    {
     "name": "stdout",
     "output_type": "stream",
     "text": [
      "<re.Match object; span=(2, 4), match='am'>\n"
     ]
    }
   ],
   "source": [
    "#Using re.search\n",
    "#To find the first occurence of a pattern in a string regardless of the location\n",
    "sentence5 = re.search(r'am', 'I am learning text analytics and am enjoying it')\n",
    "\n",
    "print(sentence5)"
   ]
  },
  {
   "cell_type": "code",
   "execution_count": 8,
   "id": "b1af3282-ddf5-4a25-97cd-9c135f24e1f9",
   "metadata": {},
   "outputs": [
    {
     "name": "stdout",
     "output_type": "stream",
     "text": [
      "['am', 'am']\n"
     ]
    }
   ],
   "source": [
    "#Using re.findall\n",
    "#To find all of the occurrences of a pattern in a string\n",
    "sentence6 = re.findall(r'am', 'I am learning text analytics and am enjoying it')\n",
    "\n",
    "print(sentence6)"
   ]
  },
  {
   "cell_type": "code",
   "execution_count": 9,
   "id": "536a955f-15e0-44e7-9524-11add5d35c59",
   "metadata": {},
   "outputs": [
    {
     "name": "stdout",
     "output_type": "stream",
     "text": [
      "['I am learning text analytics ', ' am enjoying it']\n"
     ]
    }
   ],
   "source": [
    "#Using re.split\n",
    "#To split a string by the occurrence of a given pattern\n",
    "sentence7 = re.split(r'and', 'I am learning text analytics and am enjoying it')  \n",
    "\n",
    "print (sentence7)  "
   ]
  },
  {
   "cell_type": "code",
   "execution_count": 10,
   "id": "0f391fc4-11e6-4404-ba8f-ba9ab5390c69",
   "metadata": {},
   "outputs": [
    {
     "name": "stdout",
     "output_type": "stream",
     "text": [
      "['I ', ' learning text analytics and ', ' enjoying it']\n"
     ]
    }
   ],
   "source": [
    "#Using re.split\n",
    "#To split a string by the occurrence of a given pattern\n",
    "sentence8 = re.split(r'am', 'I am learning text analytics and am enjoying it')\n",
    "\n",
    "print(sentence8)"
   ]
  },
  {
   "cell_type": "code",
   "execution_count": 11,
   "id": "91a6b55a-b52b-4de0-8a37-839755f0a5de",
   "metadata": {},
   "outputs": [
    {
     "name": "stdout",
     "output_type": "stream",
     "text": [
      "['I ', ' learning text analytics and am enjoying it']\n"
     ]
    }
   ],
   "source": [
    "#Using re.split\n",
    "#To split a string by the occurrence of a given pattern\n",
    "sentence9 = re.split(r'am', 'I am learning text analytics and am enjoying it', maxsplit=1)\n",
    "\n",
    "print(sentence9)"
   ]
  },
  {
   "cell_type": "code",
   "execution_count": 12,
   "id": "add9ab82-8db0-440e-9e84-6de9e6136d2d",
   "metadata": {},
   "outputs": [
    {
     "name": "stdout",
     "output_type": "stream",
     "text": [
      "['I ', ' learning text analytics and ', ' enjoying it']\n"
     ]
    }
   ],
   "source": [
    "#Using re.split\n",
    "#To split a string by the occurrence of a given pattern\n",
    "sentence9 = re.split(r'am', 'I am learning text analytics and am enjoying it', maxsplit=2)\n",
    "\n",
    "print(sentence9)"
   ]
  },
  {
   "cell_type": "code",
   "execution_count": 13,
   "id": "f5cd2cf5-c897-47e8-a5ed-df7380cf46c9",
   "metadata": {},
   "outputs": [
    {
     "name": "stdout",
     "output_type": "stream",
     "text": [
      "['I ', ' learning text analytics, I ', ' enjoying it and I ', ' going to ace it']\n"
     ]
    }
   ],
   "source": [
    "#Using re.split\n",
    "#To split a string by the occurrence of a given pattern\n",
    "sentence10 = re.split(r'am', 'I am learning text analytics, I am enjoying it and I am going to ace it', maxsplit=3) \n",
    "\n",
    "print (sentence10)  "
   ]
  },
  {
   "cell_type": "code",
   "execution_count": 14,
   "id": "50cafd16-575f-4ae5-8ddb-8fd2f7e9014d",
   "metadata": {},
   "outputs": [
    {
     "name": "stdout",
     "output_type": "stream",
     "text": [
      "we like text analytics and we enjoy learning it\n"
     ]
    }
   ],
   "source": [
    "#Using re.sub\n",
    "#To find the occurrence of a given pattern in a string and replace with a new value\n",
    "sentence11 = re.sub(r'I', 'we', 'I like text analytics and I enjoy learning it') \n",
    "\n",
    "print (sentence11)  "
   ]
  },
  {
   "cell_type": "code",
   "execution_count": null,
   "id": "11ab9823-6814-4e35-895a-589f2c75413e",
   "metadata": {},
   "outputs": [],
   "source": []
  }
 ],
 "metadata": {
  "kernelspec": {
   "display_name": "Python 3 (ipykernel)",
   "language": "python",
   "name": "python3"
  },
  "language_info": {
   "codemirror_mode": {
    "name": "ipython",
    "version": 3
   },
   "file_extension": ".py",
   "mimetype": "text/x-python",
   "name": "python",
   "nbconvert_exporter": "python",
   "pygments_lexer": "ipython3",
   "version": "3.11.7"
  }
 },
 "nbformat": 4,
 "nbformat_minor": 5
}
