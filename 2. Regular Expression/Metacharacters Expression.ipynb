{
 "cells": [
  {
   "cell_type": "code",
   "execution_count": 2,
   "id": "906b4be0-76e6-4bbf-81c5-f3c05ddf8e06",
   "metadata": {},
   "outputs": [],
   "source": [
    "import re"
   ]
  },
  {
   "cell_type": "code",
   "execution_count": 5,
   "id": "4cfb0d9d-d62e-4a69-9cda-2e61ba3a1542",
   "metadata": {},
   "outputs": [
    {
     "name": "stdout",
     "output_type": "stream",
     "text": [
      "['I', ' ', 'a', 'm', ' ', 'l', 'e', 'a', 'r', 'n', 'i', 'n', 'g', ' ', 't', 'e', 'x', 't', ' ', 'a', 'n', 'a', 'l', 'y', 't', 'i', 'c', 's']\n"
     ]
    }
   ],
   "source": [
    "#Used for specifying a set of characters to be matched\n",
    "#Characters can be listed individually, or a range of characters can be indicated by giving two characters and separating them by a '-'. \n",
    "\n",
    "#Using metacharacters'.'\n",
    "#Find any characters in a string (including spaces) except new line\n",
    "sentence1 = re.findall (r'.', 'I am learning text analytics')\n",
    "\n",
    "# Each letter is selected including spaces \n",
    "print (sentence1) "
   ]
  },
  {
   "cell_type": "code",
   "execution_count": 6,
   "id": "2c8560a1-9397-42ec-a2c8-bffb959b750a",
   "metadata": {},
   "outputs": [
    {
     "name": "stdout",
     "output_type": "stream",
     "text": [
      "['I', 'a', 'm', 'l', 'e', 'a', 'r', 'n', 'i', 'n', 'g', 't', 'e', 'x', 't', 'a', 'n', 'a', 'l', 'y', 't', 'i', 'c', 's']\n"
     ]
    }
   ],
   "source": [
    "#Using metacharacters'\\w'\n",
    "#To find any single character in a string (excluding spaces) except new line and spaces\n",
    "sentence2 = re.findall (r'\\w', 'I am learning text analytics') \n",
    "\n",
    "# Each letter is selected including spaces \n",
    "print (sentence2)"
   ]
  },
  {
   "cell_type": "code",
   "execution_count": 8,
   "id": "defe4002-5810-410e-8794-aa9debbd240c",
   "metadata": {},
   "outputs": [
    {
     "name": "stdout",
     "output_type": "stream",
     "text": [
      "['I', '', 'am', '', 'learning', '', 'text', '', 'analytics', '']\n"
     ]
    }
   ],
   "source": [
    "#Using metacharacters'\\w*'\n",
    "#To match any characters with zero (0) or more characters in a string including spaces\n",
    "sentence3 = re.findall (r'\\w*', 'I am learning text analytics') \n",
    "\n",
    "# Each word is selected including spaces \n",
    "print (sentence3) "
   ]
  },
  {
   "cell_type": "code",
   "execution_count": 9,
   "id": "9246ddb1-440a-4093-b4e2-6c3a56832650",
   "metadata": {},
   "outputs": [
    {
     "name": "stdout",
     "output_type": "stream",
     "text": [
      "['I', 'am', 'learning', 'text', 'analytics']\n"
     ]
    }
   ],
   "source": [
    "#Using metacharacters'\\w+'\n",
    "#To match one or more characters in a string excluding spaces\n",
    "sentence4 = re.findall (r'\\w+', 'I am learning text analytics')\n",
    "\n",
    "# Each word is selected excluding spaces \n",
    "print (sentence4) "
   ]
  },
  {
   "cell_type": "code",
   "execution_count": 10,
   "id": "c447feef-65db-439d-8642-27d0851ee145",
   "metadata": {},
   "outputs": [
    {
     "name": "stdout",
     "output_type": "stream",
     "text": [
      "['I']\n"
     ]
    }
   ],
   "source": [
    "#Using metacharacters'^\\w+'\n",
    "#To find the first word in a string\n",
    "sentence5 = re.findall (r'^\\w+', 'I am learning text analytics') \n",
    "\n",
    "# First word is selected\n",
    "print (sentence5)"
   ]
  },
  {
   "cell_type": "code",
   "execution_count": 11,
   "id": "39200838-a62e-43a6-b89e-35f89b13e56b",
   "metadata": {},
   "outputs": [
    {
     "name": "stdout",
     "output_type": "stream",
     "text": [
      "['analytics']\n"
     ]
    }
   ],
   "source": [
    "#Using metacharacters'\\w+$'\n",
    "#To match the last word in a string\n",
    "sentence6 = re.findall (r'\\w+$', 'I am learning text analytics') \n",
    "\n",
    "# Last word is selected  \n",
    "print (sentence6) "
   ]
  },
  {
   "cell_type": "code",
   "execution_count": 12,
   "id": "5dad4198-07cc-4793-bd5a-c3f74bd3b6c9",
   "metadata": {},
   "outputs": [
    {
     "name": "stdout",
     "output_type": "stream",
     "text": [
      "['am', 'le', 'ar', 'ni', 'ng', 'te', 'xt', 'an', 'al', 'yt', 'ic']\n"
     ]
    }
   ],
   "source": [
    "#Using metacharacters'\\w\\w'\n",
    "#To find two consecutive characters\n",
    "sentence7 = re.findall (r'\\w\\w', 'I am learning text analytics') \n",
    "\n",
    "# 2 consecutive characters are selected print (sentence7) \n",
    "print (sentence7) "
   ]
  },
  {
   "cell_type": "code",
   "execution_count": 13,
   "id": "f1e8575a-98f5-4866-a531-daaea4253b8b",
   "metadata": {},
   "outputs": [
    {
     "name": "stdout",
     "output_type": "stream",
     "text": [
      "['am', 'le', 'te', 'an']\n"
     ]
    }
   ],
   "source": [
    "#Using metacharacters'\\b\\w\\w'\n",
    "#To find two consecutive characters in a string\n",
    "sentence8 = re.findall (r'\\b\\w\\w', 'I am learning text analytics') \n",
    "\n",
    "# 2 consecutive characters in a string are selected \n",
    "print (sentence8) "
   ]
  },
  {
   "cell_type": "code",
   "execution_count": null,
   "id": "019ea06a-74ca-49f6-a820-6240774efb0d",
   "metadata": {},
   "outputs": [],
   "source": []
  }
 ],
 "metadata": {
  "kernelspec": {
   "display_name": "Python 3 (ipykernel)",
   "language": "python",
   "name": "python3"
  },
  "language_info": {
   "codemirror_mode": {
    "name": "ipython",
    "version": 3
   },
   "file_extension": ".py",
   "mimetype": "text/x-python",
   "name": "python",
   "nbconvert_exporter": "python",
   "pygments_lexer": "ipython3",
   "version": "3.11.7"
  }
 },
 "nbformat": 4,
 "nbformat_minor": 5
}
